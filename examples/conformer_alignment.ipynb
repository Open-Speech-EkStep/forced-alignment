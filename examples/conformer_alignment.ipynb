{
 "cells": [
  {
   "cell_type": "code",
   "execution_count": 1,
   "id": "449993fb",
   "metadata": {},
   "outputs": [
    {
     "name": "stderr",
     "output_type": "stream",
     "text": [
      "[NeMo W 2022-10-21 15:33:06 optimizers:55] Apex was not found. Using the lamb or fused_adam optimizer will error out.\n"
     ]
    }
   ],
   "source": [
    "from nemo.utils import model_utils\n",
    "from nemo.collections.asr.models import ASRModel\n",
    "from nemo.collections.asr.models.ctc_models import EncDecCTCModel\n",
    "import os\n",
    "from glob import glob\n",
    "import torch\n",
    "import nemo.collections.asr as nemo_asr\n",
    "import scipy.io.wavfile as wav\n",
    "import numpy as np\n",
    "import ctc_segmentation as cs\n",
    "from typing import List\n",
    "from tqdm import tqdm\n",
    "import math\n",
    "from pydub import AudioSegment"
   ]
  },
  {
   "cell_type": "code",
   "execution_count": 2,
   "id": "4befde51",
   "metadata": {},
   "outputs": [
    {
     "name": "stdout",
     "output_type": "stream",
     "text": [
      "[NeMo I 2022-10-21 15:33:10 mixins:170] Tokenizer SentencePieceTokenizer initialized with 128 tokens\n"
     ]
    },
    {
     "name": "stderr",
     "output_type": "stream",
     "text": [
      "[NeMo W 2022-10-21 15:33:10 modelPT:142] If you intend to do training or fine-tuning, please call the ModelPT.setup_training_data() method and provide a valid configuration file to setup the train data loader.\n",
      "    Train config : \n",
      "    manifest_filepath: ../../data/hindi_normalized/filtered_hindi_v1_manifest.json\n",
      "    sample_rate: 16000\n",
      "    batch_size: 24\n",
      "    shuffle: true\n",
      "    num_workers: 16\n",
      "    pin_memory: true\n",
      "    use_start_end_token: false\n",
      "    trim_silence: false\n",
      "    max_duration: 30\n",
      "    min_duration: 0.1\n",
      "    is_tarred: false\n",
      "    tarred_audio_filepaths: null\n",
      "    shuffle_n: 2048\n",
      "    bucketing_strategy: synced_randomized\n",
      "    bucketing_batch_size: 8\n",
      "    \n",
      "[NeMo W 2022-10-21 15:33:10 modelPT:149] If you intend to do validation, please call the ModelPT.setup_validation_data() or ModelPT.setup_multiple_validation_data() method and provide a valid configuration file to setup the validation data loader(s). \n",
      "    Validation config : \n",
      "    manifest_filepath: /root/ekstep/nemo_exp/vakyansh-nemo-experimentation/data/hindi_normalized/stt_valid_manifest.json\n",
      "    sample_rate: 16000\n",
      "    batch_size: 1\n",
      "    max_duration: 30\n",
      "    shuffle: false\n",
      "    num_workers: 8\n",
      "    pin_memory: true\n",
      "    use_start_end_token: false\n",
      "    \n",
      "[NeMo W 2022-10-21 15:33:10 modelPT:155] Please call the ModelPT.setup_test_data() or ModelPT.setup_multiple_test_data() method and provide a valid configuration file to setup the test data loader(s).\n",
      "    Test config : \n",
      "    manifest_filepath: ../../data/tarini_manifest.json\n",
      "    sample_rate: 16000\n",
      "    batch_size: 4\n",
      "    shuffle: false\n",
      "    num_workers: 8\n",
      "    pin_memory: true\n",
      "    use_start_end_token: false\n",
      "    \n"
     ]
    },
    {
     "name": "stdout",
     "output_type": "stream",
     "text": [
      "[NeMo I 2022-10-21 15:33:10 features:225] PADDING: 0\n",
      "[NeMo I 2022-10-21 15:33:14 save_restore_connector:243] Model EncDecCTCModelBPE was successfully restored from /home/anirudh/Desktop/forced-alignment/models/nemo/hindi/Conformer-CTC-BPE-Large.nemo.\n"
     ]
    }
   ],
   "source": [
    "model_cfg = ASRModel.restore_from(restore_path='../models/nemo/hindi/Conformer-CTC-BPE-Large.nemo',\n",
    "                                  return_config=True)\n",
    "classpath = model_cfg.target\n",
    "imported_class = model_utils.import_class_by_path(classpath)\n",
    "asr_model = imported_class.restore_from(restore_path='../models/nemo/hindi/Conformer-CTC-BPE-Large.nemo')"
   ]
  },
  {
   "cell_type": "code",
   "execution_count": 3,
   "id": "61ac01cc",
   "metadata": {},
   "outputs": [],
   "source": [
    "#True if model is BPE\n",
    "bpe_model = isinstance(asr_model, nemo_asr.models.EncDecCTCModelBPE)\n",
    "if bpe_model:\n",
    "    tokenizer = asr_model.tokenizer\n",
    "else:\n",
    "    tokenizer = None"
   ]
  },
  {
   "cell_type": "code",
   "execution_count": 5,
   "id": "879fa62b",
   "metadata": {},
   "outputs": [
    {
     "data": {
      "text/plain": [
       "['ε',\n",
       " '<unk>',\n",
       " 'ा',\n",
       " 'र',\n",
       " 'ी',\n",
       " 'े',\n",
       " 'न',\n",
       " 'ि',\n",
       " 'क',\n",
       " '▁',\n",
       " 'त',\n",
       " '्',\n",
       " '▁स',\n",
       " 'ल',\n",
       " 'ं',\n",
       " 'स',\n",
       " 'म',\n",
       " '▁है',\n",
       " '▁क',\n",
       " 'ु',\n",
       " 'ह',\n",
       " 'ग',\n",
       " 'य',\n",
       " 'ो',\n",
       " '▁ब',\n",
       " 'द',\n",
       " 'व',\n",
       " '▁म',\n",
       " '▁के',\n",
       " '्य',\n",
       " '▁प',\n",
       " '▁अ',\n",
       " '▁में',\n",
       " 'प',\n",
       " '▁ज',\n",
       " 'ू',\n",
       " '▁द',\n",
       " 'ज',\n",
       " 'ब',\n",
       " '▁कर',\n",
       " '▁व',\n",
       " 'श',\n",
       " 'ने',\n",
       " 'च',\n",
       " '▁आ',\n",
       " '▁ह',\n",
       " '▁को',\n",
       " 'ट',\n",
       " 'ता',\n",
       " 'ों',\n",
       " '▁और',\n",
       " '▁का',\n",
       " 'ध',\n",
       " '▁की',\n",
       " '▁हो',\n",
       " '्र',\n",
       " 'ए',\n",
       " '▁से',\n",
       " '▁कि',\n",
       " 'थ',\n",
       " '▁हैं',\n",
       " '▁न',\n",
       " 'ते',\n",
       " '▁हम',\n",
       " 'ना',\n",
       " '▁प्र',\n",
       " '▁ल',\n",
       " '▁ग',\n",
       " '▁उ',\n",
       " 'ें',\n",
       " '▁भ',\n",
       " 'ै',\n",
       " 'ई',\n",
       " '▁त',\n",
       " '▁च',\n",
       " '▁इस',\n",
       " 'भ',\n",
       " '▁भी',\n",
       " '▁पर',\n",
       " '▁तो',\n",
       " '▁र',\n",
       " 'ण',\n",
       " '▁उस',\n",
       " 'ड',\n",
       " '▁रह',\n",
       " '▁जा',\n",
       " '▁जो',\n",
       " '▁नहीं',\n",
       " '▁आप',\n",
       " '▁श',\n",
       " 'ड़',\n",
       " 'ष',\n",
       " '▁एक',\n",
       " 'िया',\n",
       " 'ख',\n",
       " '्व',\n",
       " '्ट',\n",
       " '▁यह',\n",
       " '▁वि',\n",
       " 'के',\n",
       " 'ित',\n",
       " '▁इ',\n",
       " 'छ',\n",
       " 'फ',\n",
       " '़',\n",
       " 'ँ',\n",
       " 'ौ',\n",
       " 'ठ',\n",
       " 'झ',\n",
       " 'ॉ',\n",
       " 'इ',\n",
       " 'ओ',\n",
       " 'ऐ',\n",
       " 'ढ',\n",
       " 'घ',\n",
       " 'आ',\n",
       " 'ञ',\n",
       " 'ऊ',\n",
       " 'ऑ',\n",
       " 'उ',\n",
       " 'अ',\n",
       " 'ः',\n",
       " 'औ',\n",
       " 'ॅ',\n",
       " 'ऱ',\n",
       " 'ऩ',\n",
       " 'ऋ',\n",
       " 'ङ',\n",
       " 'ृ']"
      ]
     },
     "execution_count": 5,
     "metadata": {},
     "output_type": "execute_result"
    }
   ],
   "source": [
    "vocabulary = [\"ε\"] + list(asr_model.cfg.decoder.vocabulary)\n",
    "vocabulary"
   ]
  },
  {
   "cell_type": "code",
   "execution_count": 6,
   "id": "880b0df3",
   "metadata": {},
   "outputs": [],
   "source": [
    "segment_file = 'sample.txt'\n",
    "sample_rate, signal = wav.read('sample.wav')\n",
    "original_duration = len(signal) / sample_rate"
   ]
  },
  {
   "cell_type": "code",
   "execution_count": 7,
   "id": "72cf07cd",
   "metadata": {},
   "outputs": [
    {
     "data": {
      "application/vnd.jupyter.widget-view+json": {
       "model_id": "7d79490608df4e34b9878fb4fab4e3c1",
       "version_major": 2,
       "version_minor": 0
      },
      "text/plain": [
       "Transcribing:   0%|          | 0/1 [00:00<?, ?it/s]"
      ]
     },
     "metadata": {},
     "output_type": "display_data"
    },
    {
     "name": "stderr",
     "output_type": "stream",
     "text": [
      "[NeMo W 2022-10-21 02:00:09 nemo_logging:349] /home/anirudh/miniconda3/envs/alignment/lib/python3.8/site-packages/torch/amp/autocast_mode.py:198: UserWarning: User provided device_type of 'cuda', but CUDA is not available. Disabling\n",
      "      warnings.warn('User provided device_type of \\'cuda\\', but CUDA is not available. Disabling')\n",
      "    \n"
     ]
    }
   ],
   "source": [
    "log_probs = asr_model.transcribe(paths2audio_files=['sample.wav'], batch_size=1, logprobs=True)[0]\n",
    "blank_col = log_probs[:, -1].reshape((log_probs.shape[0], 1))\n",
    "log_probs = np.concatenate((blank_col, log_probs[:, :-1]), axis=1)\n",
    "index_duration = len(signal) / log_probs.shape[0] / sample_rate"
   ]
  },
  {
   "cell_type": "code",
   "execution_count": 104,
   "id": "73d674e3",
   "metadata": {},
   "outputs": [
    {
     "data": {
      "text/plain": [
       "['क्या सेंट मैरीस की एयर क्वालिटी घातक है ']"
      ]
     },
     "execution_count": 104,
     "metadata": {},
     "output_type": "execute_result"
    }
   ],
   "source": [
    "with open(segment_file, \"r\") as f:\n",
    "    text = f.read().splitlines()\n",
    "text"
   ]
  },
  {
   "cell_type": "code",
   "execution_count": 123,
   "id": "dca835c2",
   "metadata": {},
   "outputs": [],
   "source": [
    "text = ['की']"
   ]
  },
  {
   "cell_type": "code",
   "execution_count": 124,
   "id": "df7b8b01",
   "metadata": {},
   "outputs": [],
   "source": [
    "config = cs.CtcSegmentationParameters()\n",
    "config.char_list = vocabulary\n",
    "config.min_window_size = 4000\n",
    "config.index_duration = index_duration"
   ]
  },
  {
   "cell_type": "code",
   "execution_count": 125,
   "id": "8f242930",
   "metadata": {},
   "outputs": [],
   "source": [
    "def _prepare_tokenized_text_for_bpe_model(text: List[str], tokenizer, vocabulary: List[str], blank_idx: int = 0):\n",
    "    \"\"\" Creates a transition matrix for BPE-based models\"\"\"\n",
    "    space_idx = vocabulary.index(\"▁\")\n",
    "    ground_truth_mat = [[-1, -1]]\n",
    "    utt_begin_indices = []\n",
    "    for uttr in text:\n",
    "        ground_truth_mat += [[blank_idx, space_idx]]\n",
    "        utt_begin_indices.append(len(ground_truth_mat))\n",
    "        token_ids = tokenizer.text_to_ids(uttr)\n",
    "        # blank token is moved from the last to the first (0) position in the vocabulary\n",
    "        token_ids = [idx + 1 for idx in token_ids]\n",
    "        ground_truth_mat += [[t, -1] for t in token_ids]\n",
    "\n",
    "    utt_begin_indices.append(len(ground_truth_mat))\n",
    "    ground_truth_mat += [[blank_idx, space_idx]]\n",
    "    ground_truth_mat = np.array(ground_truth_mat, np.int64)\n",
    "    return ground_truth_mat, utt_begin_indices\n",
    "\n",
    "def _print(ground_truth_mat, vocabulary, limit=20):\n",
    "    \"\"\"Prints transition matrix\"\"\"\n",
    "    chars = []\n",
    "    for row in ground_truth_mat:\n",
    "        chars.append([])\n",
    "        for ch_id in row:\n",
    "            if ch_id != -1:\n",
    "                chars[-1].append(vocabulary[int(ch_id)])\n",
    "\n",
    "    for x in chars[:limit]:\n",
    "        print(\"unknown\")\n",
    "        #logging.debug(x)\n",
    "\n",
    "def determine_utterance_segments(config, utt_begin_indices, char_probs, timings, text, char_list):\n",
    "    \"\"\"Utterance-wise alignments from char-wise alignments.\n",
    "    Adapted from https://github.com/lumaku/ctc-segmentation\n",
    "    Args:\n",
    "        config: an instance of CtcSegmentationParameters\n",
    "        utt_begin_indices: list of time indices of utterance start\n",
    "        char_probs:  character positioned probabilities obtained from backtracking\n",
    "        timings: mapping of time indices to seconds\n",
    "        text: list of utterances\n",
    "    Return:\n",
    "        segments, a list of: utterance start and end [s], and its confidence score\n",
    "    \"\"\"\n",
    "    segments = []\n",
    "    min_prob = np.float64(-10000000000.0)\n",
    "    for i in tqdm(range(len(text))):\n",
    "        start = _compute_time(utt_begin_indices[i], \"begin\", timings)\n",
    "        end = _compute_time(utt_begin_indices[i + 1], \"end\", timings)\n",
    "\n",
    "        start_t = start / config.index_duration_in_seconds\n",
    "        start_t_floor = math.floor(start_t)\n",
    "\n",
    "        # look for the left most blank symbol and split in the middle to fix start utterance segmentation\n",
    "        if char_list[start_t_floor] == config.char_list[config.blank]:\n",
    "            start_blank = None\n",
    "            j = start_t_floor - 1\n",
    "            while char_list[j] == config.char_list[config.blank] and j > start_t_floor - 20:\n",
    "                start_blank = j\n",
    "                j -= 1\n",
    "            if start_blank:\n",
    "                start_t = int(round(start_blank + (start_t_floor - start_blank) / 2))\n",
    "            else:\n",
    "                start_t = start_t_floor\n",
    "            start = start_t * config.index_duration_in_seconds\n",
    "\n",
    "        else:\n",
    "            start_t = int(round(start_t))\n",
    "\n",
    "        end_t = int(round(end / config.index_duration_in_seconds))\n",
    "\n",
    "        # Compute confidence score by using the min mean probability after splitting into segments of L frames\n",
    "        n = config.score_min_mean_over_L\n",
    "        if end_t <= start_t:\n",
    "            min_avg = min_prob\n",
    "        elif end_t - start_t <= n:\n",
    "            min_avg = char_probs[start_t:end_t].mean()\n",
    "        else:\n",
    "            min_avg = np.float64(0.0)\n",
    "            for t in range(start_t, end_t - n):\n",
    "                min_avg = min(min_avg, char_probs[t : t + n].mean())\n",
    "        segments.append((start, end, min_avg))\n",
    "    return segments\n",
    "\n",
    "def _compute_time(index, align_type, timings):\n",
    "    \"\"\"Compute start and end time of utterance.\n",
    "    Adapted from https://github.com/lumaku/ctc-segmentation\n",
    "    Args:\n",
    "        index:  frame index value\n",
    "        align_type:  one of [\"begin\", \"end\"]\n",
    "    Return:\n",
    "        start/end time of utterance in seconds\n",
    "    \"\"\"\n",
    "    middle = (timings[index] + timings[index - 1]) / 2\n",
    "    if align_type == \"begin\":\n",
    "        return max(timings[index + 1] - 0.5, middle)\n",
    "    elif align_type == \"end\":\n",
    "        return min(timings[index - 1] + 0.5, middle)"
   ]
  },
  {
   "cell_type": "code",
   "execution_count": 126,
   "id": "9512594c",
   "metadata": {},
   "outputs": [],
   "source": [
    "if bpe_model:\n",
    "    ground_truth_mat, utt_begin_indices = _prepare_tokenized_text_for_bpe_model(text, tokenizer, vocabulary, 0)"
   ]
  },
  {
   "cell_type": "code",
   "execution_count": 127,
   "id": "c3f5f4df",
   "metadata": {},
   "outputs": [],
   "source": [
    "config.blank = 0\n",
    "timings, char_probs, char_list = cs.ctc_segmentation(config, log_probs, ground_truth_mat)"
   ]
  },
  {
   "cell_type": "code",
   "execution_count": 128,
   "id": "3a12b040",
   "metadata": {},
   "outputs": [
    {
     "name": "stderr",
     "output_type": "stream",
     "text": [
      "100%|██████████████████████████████████████████████████████████████████████████████████████████████████████████████████████████████████████████████████| 1/1 [00:00<00:00, 6123.07it/s]\n"
     ]
    }
   ],
   "source": [
    "segments = determine_utterance_segments(config, utt_begin_indices, char_probs, timings, text, char_list)"
   ]
  },
  {
   "cell_type": "code",
   "execution_count": 129,
   "id": "c86ca2c1",
   "metadata": {},
   "outputs": [
    {
     "data": {
      "text/plain": [
       "[(1.5936507936507938, 2.011984126984127, -2.893225734308362)]"
      ]
     },
     "execution_count": 129,
     "metadata": {},
     "output_type": "execute_result"
    }
   ],
   "source": [
    "segments"
   ]
  },
  {
   "cell_type": "code",
   "execution_count": 130,
   "id": "437f1437",
   "metadata": {},
   "outputs": [
    {
     "data": {
      "text/plain": [
       "[2, 3]"
      ]
     },
     "execution_count": 130,
     "metadata": {},
     "output_type": "execute_result"
    }
   ],
   "source": [
    "utt_begin_indices"
   ]
  },
  {
   "cell_type": "code",
   "execution_count": 131,
   "id": "f230551b",
   "metadata": {},
   "outputs": [
    {
     "name": "stdout",
     "output_type": "stream",
     "text": [
      "की\n",
      "(1.5936507936507938, 2.011984126984127, -2.893225734308362)\n",
      "----\n"
     ]
    }
   ],
   "source": [
    "for i, (word, segment) in enumerate(zip(text, segments)):\n",
    "    print(word)\n",
    "    print(segment)\n",
    "    print('----')"
   ]
  },
  {
   "cell_type": "code",
   "execution_count": 138,
   "id": "05708d0c",
   "metadata": {},
   "outputs": [],
   "source": [
    "def clip(wav, start, end):\n",
    "    frames = AudioSegment.from_wav(wav)\n",
    "    s = start*1000\n",
    "    e = end*1000\n",
    "    return frames[s:e]"
   ]
  },
  {
   "cell_type": "code",
   "execution_count": 145,
   "id": "efd9e9b8",
   "metadata": {},
   "outputs": [
    {
     "data": {
      "text/html": [
       "\n",
       "                    <audio controls>\n",
       "                        <source src=\"data:audio/mpeg;base64,SUQzBAAAAAAAI1RTU0UAAAAPAAADTGF2ZjU4Ljc2LjEwMAAAAAAAAAAAAAAA//NYwAAAAAAAAAAAAEluZm8AAAAPAAAABQAAAtAAZmZmZmZmZmZmZmZmZmZmZmZmZoyMjIyMjIyMjIyMjIyMjIyMjIyMs7Ozs7Ozs7Ozs7Ozs7Ozs7Ozs7PZ2dnZ2dnZ2dnZ2dnZ2dnZ2dnZ2f//////////////////////////AAAAAExhdmM1OC4xMwAAAAAAAAAAAAAAACQDYAAAAAAAAALQ6nA/KAAAAAAAAAAAAAAA//M4xAAVOWZMAU8wAZC+BeAZAVAmCULuEfACADgG4QhQPHjArEPQ9D1Gr38ffvf/dkyZAghH93cRERn/////gmTvfERFng4DAYDJp3ER3PJkx3Q8PDwB0cP///APP//4AADbDTjI/zA48ACo//M4xAoXYca1lZhoAPRm/92PiQFjhx30CCP/EIosAuBnzHDRNx8E4UgGZOtlkmU3QEZFskV/UybpsdnTf0080MUEq6ZuZJoaNj7u2gWG6iyat/0EU0/mDFFKZ+sP9IZUusf+h3gZys4BhIbG//M4xAsWAXKoAZh4AEb2OklBAanEfc2wJR4Zgc8A/jmqmEvFVx+M24rVExXw9Y19Z3rO92zl7iVXNvphtrJjPbYmTm8jj2bClxJXM1mLUCbUoQ0IZ412ke7rt0biru10LVCwYgNXVVqx0mAZ//M4xBIXoYKMAZmQAMtJ5sjwnJByDE4NpFSxZgyJiTggMPSZNeiXT7FJZkkil9JEhFjOmhedMgRRNPyaIKTRJDyXjFRAiuXi6il/NVmQCwNS1/3+dlr0//6aDLy3xjGOFQqGWCIEjRUEZhUM//M4xBIYILWoC8kwAbAWBImKgikRIwSCkjSNTLHEtkilNCmxYLkNituCmzfyOi9cFNm/78f8K6bNkNi9cFNmzcGxcXBTzb8Ox78LzZuHY9+F5t+HY9dC80F4NxpMQU1FMy4xMDCqqqqqqqqq\" type=\"audio/mpeg\"/>\n",
       "                        Your browser does not support the audio element.\n",
       "                    </audio>\n",
       "                  "
      ],
      "text/plain": [
       "<pydub.audio_segment.AudioSegment at 0x7f7e44604250>"
      ]
     },
     "execution_count": 145,
     "metadata": {},
     "output_type": "execute_result"
    }
   ],
   "source": [
    "clipped = clip('sample.wav', 3.44, 3.53)\n",
    "clipped"
   ]
  },
  {
   "cell_type": "code",
   "execution_count": null,
   "id": "75b16eeb",
   "metadata": {},
   "outputs": [],
   "source": []
  }
 ],
 "metadata": {
  "kernelspec": {
   "display_name": "Python 3 (ipykernel)",
   "language": "python",
   "name": "python3"
  },
  "language_info": {
   "codemirror_mode": {
    "name": "ipython",
    "version": 3
   },
   "file_extension": ".py",
   "mimetype": "text/x-python",
   "name": "python",
   "nbconvert_exporter": "python",
   "pygments_lexer": "ipython3",
   "version": "3.8.13"
  }
 },
 "nbformat": 4,
 "nbformat_minor": 5
}
